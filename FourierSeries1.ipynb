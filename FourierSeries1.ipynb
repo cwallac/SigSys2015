{
 "metadata": {
  "name": "",
  "signature": "sha256:5eff0b46c77a9ae1632f652c2b35516249891bcdb4ca09f54830b94b5e957cfd"
 },
 "nbformat": 3,
 "nbformat_minor": 0,
 "worksheets": [
  {
   "cells": [
    {
     "cell_type": "code",
     "collapsed": false,
     "input": [
      "from __future__ import print_function\n",
      "import numpy as np\n",
      "import matplotlib.pyplot as mplib"
     ],
     "language": "python",
     "metadata": {},
     "outputs": [],
     "prompt_number": 1
    },
    {
     "cell_type": "markdown",
     "metadata": {},
     "source": [
      "The following defines a function that returns the Fourier series approximation of a triangle wave evaluated at times ts, with K Fourier series terms and a period of T time units for the triangle wave shown in Figure 1 of the notes. Recall from the notes on Fourier series that the Fourier series coefficients for that triangle wave is the following:\n",
      "\n",
      "$$C_k = \n",
      "\\begin{cases}\n",
      "-\\frac{2}{\\pi^2\\, k^2}\\mbox{ if $k$ is odd }\\\\\n",
      "\\frac{1}{2}\\mbox{ if } k = 0 \\\\\n",
      "0 \\mbox{ otherwise.}\n",
      "\\end{cases}$$"
     ]
    },
    {
     "cell_type": "code",
     "collapsed": false,
     "input": [
      "def fs_triangle(ts, M=3, T=4):\n",
      "    # computes a fourier series representation of a triangle wave\n",
      "    # with M terms in the Fourier series approximation\n",
      "    # if M is odd, terms -(M-1)/2 -> (M-1)/2 are used\n",
      "    # if M is even terms -M/2 -> M/2-1 are used\n",
      "       \n",
      "    # create an array to store the signal\n",
      "    x = np.zeros(len(ts))    \n",
      "\n",
      "    # if M is even\n",
      "    if np.mod(M,2) ==0:\n",
      "        for k in range(-int(M/2), int(M/2)):\n",
      "            # if n is odd compute the coefficients\n",
      "            if np.mod(k, 2)==1:\n",
      "                Coeff = -2/((np.pi)**2*(k**2))\n",
      "            if np.mod(k,2)==0:\n",
      "                Coeff = 0\n",
      "            if n == 0:\n",
      "                Coeff = 0.5\n",
      "            x = x + Coeff*np.exp(1j*2*np.pi/T*k*ts)\n",
      "            \n",
      "    # if M is odd     \n",
      "    if np.mod(M,2) == 1:\n",
      "        for k in range(-int((M-1)/2), int((M-1)/2)+1):\n",
      "           # if n is odd compute the coefficients\n",
      "            if np.mod(k, 2)==1:\n",
      "                Coeff = -2/((np.pi)**2*(k**2))\n",
      "            if np.mod(k,2)==0:\n",
      "                Coeff = 0\n",
      "            if k == 0:\n",
      "                Coeff = 0.5\n",
      "            x = x + Coeff*np.exp(1j*2*np.pi/T*k*ts)\n",
      "                       \n",
      "    return x"
     ],
     "language": "python",
     "metadata": {},
     "outputs": [],
     "prompt_number": 2
    },
    {
     "cell_type": "markdown",
     "metadata": {},
     "source": [
      "In the next block, we plot a Fourier series representation of a triangle wave with a slider controling the number of terms\n",
      "You can slide it back and forth to see how the Fourier series representation of the triangle wave changes with the number of terms in the series. "
     ]
    },
    {
     "cell_type": "markdown",
     "metadata": {},
     "source": [
      "Suppose that you wished to apply appropriate filtering to a triangle wave to produce a cosine wave at the same frequency as the fundamental frequency of the triangle wave. What kind of filter would you use and what would its cutoff frequencies be?"
     ]
    },
    {
     "cell_type": "markdown",
     "metadata": {},
     "source": [
      "<img src=\"SquareWave.png\"  height=\"100\" width=\"800\">\n",
      "Find the Fourier series representation of the square wave shown above, with T = 1. Recall that for a signal with fundamental period T, the k-th Fourier series coefficient is\n",
      "\n",
      "$$C_k = \\frac{1}{T} \\int_{-T/2}^{T/2}\\, x(t)\\, e^{-j\\frac{2\\pi}{T}\\,k\\,t}\\, dt$$.\n",
      "\n",
      "You may find the following useful\n",
      "\n",
      "$$ \\sin(\\theta) = \\frac{1}{2j}\\left(e^{j\\theta} - e^{-j\\theta}\\right)$$\n",
      "$$ \\text{sinc}(t) = \\frac{\\sin(\\pi t)}{\\pi t}$$\n",
      "\n",
      "Modify the function fs_square(ts, M, T) below  to produces a Fourier series representation of the square wave in Figure 3 of the notes, and run the subsequent cell to plot the Fourier series representation of the square wave. You can assume that the number of terms in the Fourier series representation is an odd number.\n",
      "\n",
      "What happens aes the number of terms in the FS representation of the square wave increases?\n",
      "\n",
      "Does the K term FS representation $$\\tilde{x}_K(t) \\to x(t)$$ at every value of t? \n",
      "\n",
      "How do you reconcile what you see with the assertion in the notes that as K goes to infinity, \n",
      "$$\\int_{-T/2}^{T/2} \\left|x(t)-\\tilde{x}_K(t)\\right|^2\\, dt  \\to 0\\,\\, ? $$\n"
     ]
    },
    {
     "cell_type": "code",
     "collapsed": false,
     "input": [
      "from matplotlib.widgets import Button\n",
      "\n",
      "# create a plot to demonstrate the Fourier Series of a triangle wave \n",
      "fig, ax = mplib.subplots()\n",
      "T = 4;\n",
      "\n",
      "# create an array of time samples from -8 to 8 and use 2048 points to represent the wave\n",
      "ts = np.linspace(-8,8,2048)\n",
      "\n",
      "# compute the Fourier series representation with 1 term of a triangle wave with period 4\n",
      "x = fs_triangle(ts, M=1, T=4)\n",
      "\n",
      "\n",
      "mplib.subplot(2,1,1)\n",
      "# set the axis range for the main plot\n",
      "mplib.axis([-8, 8,-0.5, 1.5])\n",
      "\n",
      "# plot the FS representation\n",
      "line1, = mplib.plot(ts, x, lw=1)\n",
      "mplib.title(\"Fourier series representation with 1 term\" )\n",
      "mplib.ylabel('Time Domain')\n",
      "\n",
      "\n",
      "mplib.subplot(2,1,2)\n",
      "# plot the spectrum\n",
      "fs = np.pi/(ts[1]-ts[0])/len(x)*np.linspace(-len(x)/2,len(x)/2-1, len(x))\n",
      "X = np.fft.fftshift(np.fft.fft(x))\n",
      "# add a small constant value so that the log function doesn't complain if we have any zeros in X\n",
      "X = X+1e-10*np.ones(len(X))\n",
      "line2, = mplib.plot(fs,20*np.log10(np.abs(X)))\n",
      "mplib.axis([np.min(fs)/4,np.max(fs)/4, -20, 80])\n",
      "mplib.grid()\n",
      "mplib.ylabel('Freq. Domain (dB)')\n",
      "\n",
      "\n",
      "# this is the function that gets called whenever M is changed\n",
      "def on_change(M):\n",
      "    mplib.subplot(211)\n",
      "    mplib.title(\"Fourier series representation with %d terms\" % (M) )\n",
      "\n",
      "    # compute a FS representation for the number ohttp://localhost:8888/notebooks/FourierSeriesTriangleWave.ipynb#f FS terms from the slider\n",
      "    x = fs_triangle(ts, M, T=4)\n",
      "    # refresh the line\n",
      "    line1.set_ydata(x)\n",
      "    X = np.fft.fftshift(np.fft.fft(x))\n",
      "    # add a small constant value so that the log function doesn't complain if we have any zeros in X\n",
      "    X = X+1e-10*np.ones(len(X))\n",
      "    line2.set_ydata(20*np.log10(np.abs(X)))\n",
      "    # redraw to update\n",
      "    mplib.draw()\n",
      "\n",
      "# this class handles the plotting operations in response to button presses\n",
      "class PlotFS:\n",
      "    \n",
      "    M = 1\n",
      "    M_max = 129\n",
      "    M_min = 1\n",
      "     \n",
      "    # this method increments the number of FS terms plotted by 2 \n",
      "    def add_two(self, event):\n",
      "        self.M += 2\n",
      "        # wrap around\n",
      "        if self.M > self.M_max:\n",
      "            self.M = self.M_max\n",
      "        on_change(self.M)\n",
      "        \n",
      "    # this method decrements the number of FS terms plotted by 2 \n",
      "    def sub_two(self, event):\n",
      "        self.M -= 2\n",
      "        # wrap around\n",
      "        if self.M < self.M_min:\n",
      "            self.M = self.M_min\n",
      "        on_change(self.M)\n",
      "\n",
      "\n",
      "   # this method maximizes the number of FS terms\n",
      "    def maximize(self, event):      \n",
      "        self.M = self.M_max\n",
      "        on_change(self.M)\n",
      "        \n",
      "    # this method minimizes the number of FS terms\n",
      "    def minimize(self, event):\n",
      "        self.M = self.M_min\n",
      "        on_change(self.M)\n",
      "   \n",
      "# this object handles the button presses\n",
      "callback = PlotFS()\n",
      "\n",
      "# make the buttons\n",
      "axprev = mplib.axes([0.7, 0.005, 0.1, 0.05])\n",
      "axnext = mplib.axes([0.81, 0.005, 0.1, 0.05])\n",
      "axmax = mplib.axes([0.59, 0.005, 0.1, 0.05])\n",
      "axmin = mplib.axes([0.48, 0.005, 0.1, 0.05])\n",
      "\n",
      "bmin = Button(axmin, \"%d Terms\" % callback.M_min)\n",
      "bmax = Button(axmax, \"%d Terms\" % callback.M_max)\n",
      "bnext = Button(axnext, '+ 2 Terms')\n",
      "bnext.on_clicked(callback.add_two)\n",
      "bprev = Button(axprev, '- 2 Terms')\n",
      "bprev.on_clicked(callback.sub_two)\n",
      "bmax.on_clicked(callback.maximize)\n",
      "bmin.on_clicked(callback.minimize)\n",
      "\n",
      "mplib.show()"
     ],
     "language": "python",
     "metadata": {},
     "outputs": [],
     "prompt_number": 11
    },
    {
     "cell_type": "code",
     "collapsed": false,
     "input": [
      "def fs_square(ts, M=3, T=4):\n",
      "    # computes a fourier series representation of a square wave\n",
      "    # with M terms in the Fourier series approximation\n",
      "    # if M is odd, terms -(M-1)/2 -> (M-1)/2 are used\n",
      "    # if M is even terms -M/2 -> M/2-1 are used\n",
      "       \n",
      "    # create an array to store the signal\n",
      "    x = np.zeros(len(ts))    \n",
      "\n",
      "    # if M is even\n",
      "    if np.mod(M,2) ==0:\n",
      "        for k in range(-int(M/2), int(M/2)):\n",
      "            ###################################################################################################### \n",
      "            ##  change the following line to provide the Fourier series coefficients for the square wave\n",
      "            if np.mod(k,2) ==1:\n",
      "                #If k is odd\n",
      "                #Coeff = 4/(k*np.pi)\n",
      "                Coeff = (1/(1j*np.pi*k))\n",
      "            if np.mod(k,2) ==0:\n",
      "                #If k is even\n",
      "                Coeff = 0\n",
      "                \n",
      "            if k == 0:\n",
      "                Coeff = .5\n",
      "            \n",
      "            x = x + Coeff*np.exp(1j*2*np.pi/T*k*ts)\n",
      "            \n",
      "    # if M is odd     \n",
      "    if np.mod(M,2) == 1:\n",
      "        for k in range(-int((M-1)/2), int((M-1)/2)+1):\n",
      "            ###################################################################################################### \n",
      "            ##  change the following line to provide the Fourier series coefficients for the square wave\n",
      "            ##  Coeff = ??\n",
      "            if np.mod(k,2) ==1:\n",
      "                #If k is odd\n",
      "                #Coeff = 4/(k*np.pi)\n",
      "                Coeff = (1/(1j*np.pi*k))\n",
      "            if np.mod(k,2) ==0:\n",
      "                #If k is even\n",
      "                Coeff = 0\n",
      "            if k == 0:\n",
      "                Coeff = .5\n",
      "             \n",
      "            x = x + Coeff*np.exp(1j*2*np.pi/T*k*ts)\n",
      "                       \n",
      "    return x"
     ],
     "language": "python",
     "metadata": {},
     "outputs": [],
     "prompt_number": 21
    },
    {
     "cell_type": "markdown",
     "metadata": {},
     "source": [
      "The following cell provides an interactive figure for plotting the fs coefficients. It assumes fs_square above is available. If you have implemented fs_square correctly, the running the following cell will open up an interactive figure for the square wave fourier series"
     ]
    },
    {
     "cell_type": "code",
     "collapsed": false,
     "input": [
      "from matplotlib.widgets import Button\n",
      "\n",
      "# create a plot to demonstrate the Fourier Series of a triangle wave \n",
      "\n",
      "\n",
      "fig, ax = mplib.subplots()\n",
      "T = 1;\n",
      "\n",
      "# create an array of time samples from -2 to 2 and use 2048 points to represent the wave\n",
      "ts = np.linspace(-2,2,2048)\n",
      "\n",
      "# compute the Fourier series representation with 1 term of a square wave with period 4\n",
      "x = fs_square(ts, 1, T)\n",
      "\n",
      "\n",
      "mplib.subplot(2,1,1)\n",
      "# set the axis range for the main plot\n",
      "mplib.axis([-2, 2,-0.5, 1.5])\n",
      "\n",
      "# plot the FS representation\n",
      "line1, = mplib.plot(ts, x, lw=1)\n",
      "mplib.title(\"Time Domain Fourier series representation with 1 term\" )\n",
      "\n",
      "mplib.ylabel('Time Domain')\n",
      "mplib.grid()\n",
      "mplib.subplot(2,1,2)\n",
      "mplib.title(\"Freq. Domain Fourier series representation with 1 term\" )\n",
      "\n",
      "# plot the spectrum\n",
      "fs = np.pi/(ts[1]-ts[0])/len(x)*np.linspace(-len(x)/2,len(x)/2-1, len(x))\n",
      "X = np.fft.fftshift(np.fft.fft(x))\n",
      "# add a small constant value so that the log function doesn't complain if we have any zeros in X\n",
      "X = X+1e-10*np.ones(len(X))\n",
      "line2, = mplib.plot(fs,20*np.log10(np.abs(X)))\n",
      "mplib.axis([np.min(fs)/2,np.max(fs)/2, -20, 80])\n",
      "mplib.grid()\n",
      "mplib.ylabel('Freq. Domain (dB)')\n",
      "\n",
      "\n",
      "# this is the function that gets called whenever M is changed\n",
      "def on_change(M):\n",
      "#    mplib.text(2, 6,\"Fourier Series with %d terms\" % (M) )\n",
      "    mplib.subplot(211)\n",
      "    mplib.title(\"Time Domain Fourier series representation with %d terms\" % (M) )\n",
      "    mplib.subplot(212)\n",
      "    mplib.title(\"Freq. Domain Fourier series representation with %d terms\" % (M) )\n",
      "\n",
      "    # compute a FS representation for the number ohttp://localhost:8888/notebooks/FourierSeriesTriangleWave.ipynb#f FS terms from the slider\n",
      "    x = fs_square(ts, M, T)\n",
      "    # refresh the line\n",
      "    line1.set_ydata(x)\n",
      "    X = np.fft.fftshift(np.fft.fft(x))\n",
      "    # add a small constant value so that the log function doesn't complain if we have any zeros in X\n",
      "    X = X+1e-10*np.ones(len(X))\n",
      "    line2.set_ydata(20*np.log10(np.abs(X)))\n",
      "    # redraw to update\n",
      "    mplib.draw()\n",
      "\n",
      "# this class handles the plotting operations in response to button presses\n",
      "class PlotFS:\n",
      "    \n",
      "    M = 1\n",
      "    M_max = 257\n",
      "    M_min = 1\n",
      "    \n",
      "    # this method increments the number of FS terms plotted by 2 \n",
      "    def add_two(self, event):\n",
      "        self.M += 2\n",
      "        # wrap around\n",
      "        if self.M > self.M_max:\n",
      "            self.M = self.M_max\n",
      "        on_change(self.M)\n",
      "        \n",
      "    # this method decrements the number of FS terms plotted by 2 \n",
      "    def sub_two(self, event):\n",
      "        self.M -= 2\n",
      "        # wrap around\n",
      "        if self.M < self.M_min:\n",
      "            self.M = self.M_min\n",
      "        on_change(self.M)\n",
      "\n",
      "\n",
      "   # this method maximizes the number of FS terms\n",
      "    def maximize(self, event):\n",
      "       \n",
      "        self.M = self.M_max\n",
      "        on_change(self.M)\n",
      "        \n",
      "    # this method minimizes the number of FS terms\n",
      "    def minimize(self, event):\n",
      "        self.M = self.M_min\n",
      "        on_change(self.M)\n",
      "        \n",
      "# this object handles the button presses\n",
      "callback = PlotFS()\n",
      "\n",
      "# make the buttons\n",
      "axprev = mplib.axes([0.7, 0.005, 0.1, 0.05])\n",
      "axnext = mplib.axes([0.81, 0.005, 0.1, 0.05])\n",
      "axmax = mplib.axes([0.59, 0.005, 0.1, 0.05])\n",
      "axmin = mplib.axes([0.48, 0.005, 0.1, 0.05])\n",
      "\n",
      "bmin = Button(axmin, \"%d Terms\" % callback.M_min)\n",
      "bmax = Button(axmax, \"%d Terms\" % callback.M_max)\n",
      "bnext = Button(axnext, '+ 2 Terms')\n",
      "bprev = Button(axprev, '- 2 Terms')\n",
      "\n",
      "bnext.on_clicked(callback.add_two)\n",
      "bprev.on_clicked(callback.sub_two)\n",
      "bmax.on_clicked(callback.maximize)\n",
      "bmin.on_clicked(callback.minimize)\n",
      "\n",
      "mplib.show()"
     ],
     "language": "python",
     "metadata": {},
     "outputs": [],
     "prompt_number": 22
    },
    {
     "cell_type": "code",
     "collapsed": false,
     "input": [
      "%matplotlib inline\n",
      "T = 4\n",
      "M = 5\n",
      "x = fs_square(ts,M,T)\n",
      "mplib.plot(ts,x)\n",
      "mplib.title(\"Time Domain Fourier series representation with %d terms\" % (M) )\n",
      "mplib.show()\n"
     ],
     "language": "python",
     "metadata": {},
     "outputs": [
      {
       "metadata": {},
       "output_type": "display_data",
       "png": "[encoded data removed]",
       "text": [
        "<matplotlib.figure.Figure at 0xb2e14e0>"
       ]
      }
     ],
     "prompt_number": 32
    },
    {
     "cell_type": "code",
     "collapsed": false,
     "input": [
      "T = 4\n",
      "M = 17\n",
      "x = fs_square(ts,M,T)\n",
      "mplib.plot(ts,x)\n",
      "mplib.title(\"Time Domain Fourier series representation with %d terms\" % (M) )\n",
      "mplib.show()"
     ],
     "language": "python",
     "metadata": {},
     "outputs": [
      {
       "metadata": {},
       "output_type": "display_data",
       "png": "[encoded data removed]",
       "text": [
        "<matplotlib.figure.Figure at 0xb600898>"
       ]
      }
     ],
     "prompt_number": 33
    },
    {
     "cell_type": "code",
     "collapsed": false,
     "input": [
      "T = 4\n",
      "M = 257\n",
      "x = fs_square(ts,M,T)\n",
      "mplib.plot(ts,x)\n",
      "mplib.title(\"Time Domain Fourier series representation with %d terms\" % (M) )\n",
      "mplib.show()"
     ],
     "language": "python",
     "metadata": {},
     "outputs": [
      {
       "metadata": {},
       "output_type": "display_data",
       "png": "[encoded data removed]",
       "text": [
        "<matplotlib.figure.Figure at 0xa8d2668>"
       ]
      }
     ],
     "prompt_number": 36
    },
    {
     "cell_type": "markdown",
     "metadata": {},
     "source": [
      "3c) Decribe what you see at the point of discontinuity:"
     ]
    },
    {
     "cell_type": "markdown",
     "metadata": {},
     "source": [
      "At each point of discontnuity there are high frequecny sign waves with amplitudes that slowly get less and less. THe reason for this is that at a discountinuity there are a lot of high frequecny components. So many components that we can not truly represent this in the analog world. As you at more higher frequecnies the effect gets less and less, supporting number ten in that as k increases the error approaches zero. Teh error does approach zero, it just can not quite make zero because the discontinuity in effect creates a component with an infinity frequency. "
     ]
    },
    {
     "cell_type": "markdown",
     "metadata": {},
     "source": [
      "4) if y(t) is a delayed version of x(t) and Ck is is teh foerrier coefficeints for x(t) what are the fourier coefficeints for y(t)"
     ]
    },
    {
     "cell_type": "markdown",
     "metadata": {},
     "source": [
      "The coefficients are going to be the same, since the signal is periodic it does not matter where you evaluate it from as long as there is one period that is evaluated"
     ]
    },
    {
     "cell_type": "markdown",
     "metadata": {},
     "source": [
      "4b) See scanned paper for coefficients triangel wave plot below"
     ]
    },
    {
     "cell_type": "code",
     "collapsed": false,
     "input": [
      "x = fs_triangle(ts, M=15, T=4)\n",
      "mplib.plot(ts,x)\n",
      "mplib.title(\"Time Domain Fourier series representation with %d terms\" % (M) )\n",
      "mplib.show()"
     ],
     "language": "python",
     "metadata": {},
     "outputs": [
      {
       "metadata": {},
       "output_type": "display_data",
       "png": "[encoded data removed]",
       "text": [
        "<matplotlib.figure.Figure at 0xa9822b0>"
       ]
      }
     ],
     "prompt_number": 38
    },
    {
     "cell_type": "markdown",
     "metadata": {},
     "source": [
      "The answer I found accurately depicts a triangle wave, this makes sense since my conclusion was that the coefficients would be the same. "
     ]
    }
   ],
   "metadata": {}
  }
 ]
}